{
 "cells": [
  {
   "cell_type": "code",
   "execution_count": 2,
   "metadata": {
    "collapsed": true
   },
   "outputs": [],
   "source": [
    "import matplotlib.pyplot as plt\n",
    "import pandas as pd\n",
    "import numpy as np"
   ]
  },
  {
   "cell_type": "code",
   "execution_count": 9,
   "outputs": [
    {
     "name": "stdout",
     "output_type": "stream",
     "text": [
      "Question a)\n",
      "Adjacency Matrix A = \n",
      " [[0, 1, 1, 1, 1, 0, 0, 0, 0, 0, 0, 0], [1, 0, 0, 0, 0, 1, 0, 0, 0, 0, 0, 0], [1, 0, 0, 0, 0, 0, 1, 0, 0, 0, 0, 0], [1, 0, 0, 0, 0, 0, 0, 1, 0, 0, 0, 0], [1, 0, 0, 0, 0, 0, 0, 0, 1, 0, 0, 0], [0, 1, 0, 0, 0, 0, 0, 0, 0, 0, 0, 0], [0, 0, 1, 0, 0, 0, 0, 0, 0, 1, 0, 0], [0, 0, 0, 1, 0, 0, 0, 0, 0, 0, 1, 0], [0, 0, 0, 0, 1, 0, 0, 0, 0, 0, 0, 1], [0, 0, 0, 0, 0, 0, 1, 0, 0, 0, 0, 0], [0, 0, 0, 0, 0, 0, 0, 1, 0, 0, 0, 0], [0, 0, 0, 0, 0, 0, 0, 0, 1, 0, 0, 0]]\n"
     ]
    }
   ],
   "source": [
    "print(\"Question a)\")\n",
    "adjacencyArray = [[0,1,1,1,1,0,0,0,0,0,0,0],[1,0,0,0,0,1,0,0,0,0,0,0],[1,0,0,0,0,0,1,0,0,0,0,0],[1,0,0,0,0,0,0,1,0,0,0,0],\n",
    "                    [1,0,0,0,0,0,0,0,1,0,0,0],[0,1,0,0,0,0,0,0,0,0,0,0],[0,0,1,0,0,0,0,0,0,1,0,0],[0,0,0,1,0,0,0,0,0,0,1,0],\n",
    "                    [0,0,0,0,1,0,0,0,0,0,0,1],[0,0,0,0,0,0,1,0,0,0,0,0],[0,0,0,0,0,0,0,1,0,0,0,0],[0,0,0,0,0,0,0,0,1,0,0,0]]\n",
    "print(\"Adjacency Matrix A = \\n\", adjacencyArray)"
   ],
   "metadata": {
    "collapsed": false,
    "pycharm": {
     "name": "#%%\n"
    }
   }
  },
  {
   "cell_type": "code",
   "execution_count": 10,
   "outputs": [
    {
     "name": "stdout",
     "output_type": "stream",
     "text": [
      "Question b)\n",
      "Degree matrix = \n",
      " [[4. 0. 0. 0. 0. 0. 0. 0. 0. 0. 0. 0.]\n",
      " [0. 2. 0. 0. 0. 0. 0. 0. 0. 0. 0. 0.]\n",
      " [0. 0. 2. 0. 0. 0. 0. 0. 0. 0. 0. 0.]\n",
      " [0. 0. 0. 2. 0. 0. 0. 0. 0. 0. 0. 0.]\n",
      " [0. 0. 0. 0. 2. 0. 0. 0. 0. 0. 0. 0.]\n",
      " [0. 0. 0. 0. 0. 1. 0. 0. 0. 0. 0. 0.]\n",
      " [0. 0. 0. 0. 0. 0. 2. 0. 0. 0. 0. 0.]\n",
      " [0. 0. 0. 0. 0. 0. 0. 2. 0. 0. 0. 0.]\n",
      " [0. 0. 0. 0. 0. 0. 0. 0. 2. 0. 0. 0.]\n",
      " [0. 0. 0. 0. 0. 0. 0. 0. 0. 1. 0. 0.]\n",
      " [0. 0. 0. 0. 0. 0. 0. 0. 0. 0. 1. 0.]\n",
      " [0. 0. 0. 0. 0. 0. 0. 0. 0. 0. 0. 1.]]\n"
     ]
    }
   ],
   "source": [
    "print(\"Question b)\")\n",
    "#get adjacency matrix\n",
    "adjacencyMatrix = np.matrix(adjacencyArray)\n",
    "\n",
    "#degree matrix\n",
    "degree = np.zeros(len(adjacencyMatrix))\n",
    "rowsum = adjacencyMatrix.sum(axis=1)\n",
    "\n",
    "# loop through matrix and add up all degree connections\n",
    "for j in range(0, len(adjacencyMatrix)):\n",
    "    degree[j] = rowsum[j,0]\n",
    "#print(degree)\n",
    "# get the diagonal entries to correct the for loop oversumming\n",
    "A = adjacencyMatrix.diagonal()\n",
    "d = A.flat\n",
    "diagMat = list(d)\n",
    "\n",
    "#get degree matrix\n",
    "degreeMatrix = np.diag(degree - diagMat)\n",
    "print(\"Degree matrix = \\n\", degreeMatrix)"
   ],
   "metadata": {
    "collapsed": false,
    "pycharm": {
     "name": "#%%\n"
    }
   }
  },
  {
   "cell_type": "code",
   "execution_count": 11,
   "outputs": [
    {
     "name": "stdout",
     "output_type": "stream",
     "text": [
      "Question c)\n",
      "laplacian matrix = \n",
      " [[ 4. -1. -1. -1. -1.  0.  0.  0.  0.  0.  0.  0.]\n",
      " [-1.  2.  0.  0.  0. -1.  0.  0.  0.  0.  0.  0.]\n",
      " [-1.  0.  2.  0.  0.  0. -1.  0.  0.  0.  0.  0.]\n",
      " [-1.  0.  0.  2.  0.  0.  0. -1.  0.  0.  0.  0.]\n",
      " [-1.  0.  0.  0.  2.  0.  0.  0. -1.  0.  0.  0.]\n",
      " [ 0. -1.  0.  0.  0.  1.  0.  0.  0.  0.  0.  0.]\n",
      " [ 0.  0. -1.  0.  0.  0.  2.  0.  0. -1.  0.  0.]\n",
      " [ 0.  0.  0. -1.  0.  0.  0.  2.  0.  0. -1.  0.]\n",
      " [ 0.  0.  0.  0. -1.  0.  0.  0.  2.  0.  0. -1.]\n",
      " [ 0.  0.  0.  0.  0.  0. -1.  0.  0.  1.  0.  0.]\n",
      " [ 0.  0.  0.  0.  0.  0.  0. -1.  0.  0.  1.  0.]\n",
      " [ 0.  0.  0.  0.  0.  0.  0.  0. -1.  0.  0.  1.]]\n"
     ]
    }
   ],
   "source": [
    "print(\"Question c)\")\n",
    "#getting laplacian matrix\n",
    "laplacianMatrix = degreeMatrix - adjacencyMatrix\n",
    "\n",
    "print(\"laplacian matrix = \\n\", laplacianMatrix)"
   ],
   "metadata": {
    "collapsed": false,
    "pycharm": {
     "name": "#%%\n"
    }
   }
  },
  {
   "cell_type": "code",
   "execution_count": 12,
   "outputs": [],
   "source": [
    "x = [1,0,0,0,0,0,0,0,0,0,0,0]"
   ],
   "metadata": {
    "collapsed": false,
    "pycharm": {
     "name": "#%%\n"
    }
   }
  },
  {
   "cell_type": "code",
   "execution_count": 13,
   "outputs": [
    {
     "name": "stdout",
     "output_type": "stream",
     "text": [
      "Question d)\n",
      "L * x = [[ 4. -1. -1. -1. -1.  0.  0.  0.  0.  0.  0.  0.]]\n",
      "L * L * x = [[20. -6. -6. -6. -6.  1.  1.  1.  1.  0.  0.  0.]]\n",
      "L * L * L * x = [[104. -33. -33. -33. -33.   7.   8.   8.   8.  -1.  -1.  -1.]]\n"
     ]
    }
   ],
   "source": [
    "print(\"Question d)\")\n",
    "print(\"L * x =\",np.matmul(laplacianMatrix,x))\n",
    "print(\"L * L * x =\",x * np.matmul(laplacianMatrix,laplacianMatrix))\n",
    "print(\"L * L * L * x =\",x * laplacianMatrix * laplacianMatrix * laplacianMatrix)"
   ],
   "metadata": {
    "collapsed": false,
    "pycharm": {
     "name": "#%%\n"
    }
   }
  }
 ],
 "metadata": {
  "kernelspec": {
   "display_name": "Python 3",
   "language": "python",
   "name": "python3"
  },
  "language_info": {
   "codemirror_mode": {
    "name": "ipython",
    "version": 2
   },
   "file_extension": ".py",
   "mimetype": "text/x-python",
   "name": "python",
   "nbconvert_exporter": "python",
   "pygments_lexer": "ipython2",
   "version": "2.7.6"
  }
 },
 "nbformat": 4,
 "nbformat_minor": 0
}