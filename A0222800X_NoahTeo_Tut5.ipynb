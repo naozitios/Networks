{
 "cells": [
  {
   "cell_type": "code",
   "execution_count": 1,
   "metadata": {
    "collapsed": true
   },
   "outputs": [],
   "source": [
    "import matplotlib.pyplot as plt\n",
    "import pandas as pd\n",
    "import numpy as np"
   ]
  },
  {
   "cell_type": "code",
   "execution_count": 2,
   "outputs": [],
   "source": [
    "adjacencyArrayB = [[0,0,0,0,0,0,0,0,1,0,1,0],[0,0,1,0,1,0,1,0,0,0,0,0],[0,1,0,1,0,0,0,0,0,0,0,0],[0,0,1,0,1,0,0,0,0,0,0,0],\n",
    "                    [0,1,0,1,0,0,0,0,0,0,0,0],[0,0,0,0,0,0,1,0,0,1,0,0],[0,1,0,0,0,1,0,1,0,0,0,0],[0,0,0,0,0,0,1,0,0,0,0,0],\n",
    "                    [1,0,0,0,0,0,0,0,0,0,1,0],[0,0,0,0,0,1,0,0,0,0,1,1],[1,0,0,0,0,0,0,0,1,1,0,0],[0,0,0,0,0,0,0,0,0,1,0,0]]"
   ],
   "metadata": {
    "collapsed": false,
    "pycharm": {
     "name": "#%%\n"
    }
   }
  },
  {
   "cell_type": "code",
   "execution_count": 3,
   "outputs": [
    {
     "name": "stdout",
     "output_type": "stream",
     "text": [
      "[ 4.876  4.562  3.686 -0.     0.111  0.438  0.612  1.436  2.279  3.\n",
      "  3.     2.   ]\n",
      "Since there are 1 zero integers are found, there is 1 cluster\n"
     ]
    }
   ],
   "source": [
    "#get adjacency matrix\n",
    "adjacencyMatrixB = np.matrix(adjacencyArrayB)\n",
    "\n",
    "#degree matrix\n",
    "degree = np.zeros(len(adjacencyMatrixB))\n",
    "rowsum = adjacencyMatrixB.sum(axis=1)\n",
    "\n",
    "# loop through matrix and add up all degree connections\n",
    "for j in range(0, len(adjacencyMatrixB)):\n",
    "    degree[j] = rowsum[j,0]\n",
    "#print(degree)\n",
    "# get the diagonal entries to correct the for loop oversumming\n",
    "A = adjacencyMatrixB.diagonal()\n",
    "d = A.flat\n",
    "diagMat = list(d)\n",
    "\n",
    "#get degree matrix\n",
    "degreeMatrixB = np.diag(degree - diagMat)\n",
    "\n",
    "#getting laplacian matrix\n",
    "laplacianMatrixB = degreeMatrixB - adjacencyMatrixB\n",
    "\n",
    "#geting eigenvalues\n",
    "eigenvaluesB = np.round(np.linalg.eig(laplacianMatrixB)[0], decimals = 3)\n",
    "print(eigenvaluesB)\n",
    "\n",
    "clustersB = 0\n",
    "for i in range(len(eigenvaluesB)):\n",
    "    if eigenvaluesB[i] == 0:\n",
    "        clustersB += 1\n",
    "print(\"Since there are {} zero integers are found, there is {} cluster\".format(clustersB,clustersB))"
   ],
   "metadata": {
    "collapsed": false,
    "pycharm": {
     "name": "#%%\n"
    }
   }
  },
  {
   "cell_type": "code",
   "execution_count": 4,
   "outputs": [],
   "source": [
    "adjacencyArrayC = [[0,0,0,0,0,0,0,0,1,0,1,0],[0,0,1,0,1,0,1,0,0,0,0,0],[0,1,0,1,0,0,0,0,0,0,0,0],[0,0,1,0,1,0,0,0,0,0,0,0],\n",
    "                    [0,1,0,1,0,0,0,0,0,0,0,0],[0,0,0,0,0,0,0,0,0,1,0,0],[0,1,0,0,0,0,0,1,0,0,0,0],[0,0,0,0,0,0,1,0,0,0,0,0],\n",
    "                    [1,0,0,0,0,0,0,0,0,0,1,0],[0,0,0,0,0,1,0,0,0,0,1,1],[1,0,0,0,0,0,0,0,1,1,0,0],[0,0,0,0,0,0,0,0,0,1,0,0]]"
   ],
   "metadata": {
    "collapsed": false,
    "pycharm": {
     "name": "#%%\n"
    }
   }
  },
  {
   "cell_type": "code",
   "execution_count": 5,
   "outputs": [
    {
     "name": "stdout",
     "output_type": "stream",
     "text": [
      "[ 4.562  3.    -0.     0.438  4.562  2.     0.     0.438  3.     3.\n",
      "  1.     2.   ]\n",
      "Since there are 2 zero integers are found, there are 2 clusters\n"
     ]
    }
   ],
   "source": [
    "#get adjacency matrix\n",
    "adjacencyMatrixC = np.matrix(adjacencyArrayC)\n",
    "\n",
    "#degree matrix\n",
    "degree = np.zeros(len(adjacencyMatrixC))\n",
    "rowsum = adjacencyMatrixC.sum(axis=1)\n",
    "\n",
    "# loop through matrix and add up all degree connections\n",
    "for j in range(0, len(adjacencyMatrixC)):\n",
    "    degree[j] = rowsum[j,0]\n",
    "#print(degree)\n",
    "# get the diagonal entries to correct the for loop oversumming\n",
    "A = adjacencyMatrixC.diagonal()\n",
    "d = A.flat\n",
    "diagMat = list(d)\n",
    "\n",
    "#get degree matrix\n",
    "degreeMatrixC = np.diag(degree - diagMat)\n",
    "\n",
    "#getting laplacian matrix\n",
    "laplacianMatrixC = degreeMatrixC - adjacencyMatrixC\n",
    "#geting eigenvalues\n",
    "\n",
    "eigenvaluesC = np.round(np.linalg.eig(laplacianMatrixC)[0], decimals = 3)\n",
    "print(eigenvaluesC)\n",
    "\n",
    "clustersC = 0\n",
    "for i in range(len(eigenvaluesC)):\n",
    "    if eigenvaluesC[i] == 0:\n",
    "        clustersC += 1\n",
    "print(\"Since there are {} zero integers are found, there are {} clusters\".format(clustersC,clustersC))"
   ],
   "metadata": {
    "collapsed": false,
    "pycharm": {
     "name": "#%%\n"
    }
   }
  },
  {
   "cell_type": "code",
   "execution_count": 6,
   "outputs": [],
   "source": [
    "adjacencyArrayD = [[0,0,0,0,0,0,0,0,1,0,1,0],[0,0,1,0,1,0,1,0,0,0,0,0],[0,1,0,1,0,0,0,0,0,0,0,0],[0,0,1,0,1,0,0,0,0,0,0,0],\n",
    "                    [0,1,0,1,0,0,0,0,0,0,0,0],[0,0,0,0,0,0,0,0,0,1,0,0],[0,1,0,0,0,0,0,1,0,0,0,0],[0,0,0,0,0,0,1,0,0,0,0,0],\n",
    "                    [1,0,0,0,0,0,0,0,0,0,1,0],[0,0,0,0,0,1,0,0,0,0,0,1],[1,0,0,0,0,0,0,0,1,0,0,0],[0,0,0,0,0,0,0,0,0,1,0,0]]"
   ],
   "metadata": {
    "collapsed": false,
    "pycharm": {
     "name": "#%%\n"
    }
   }
  },
  {
   "cell_type": "code",
   "execution_count": 7,
   "outputs": [
    {
     "name": "stdout",
     "output_type": "stream",
     "text": [
      "[ 3.   +0.j -0.   +0.j  4.562+0.j  0.438+0.j  3.   +0.j  2.   +0.j\n",
      "  2.   -0.j -0.   +0.j -0.   +0.j  1.   +0.j  3.   +0.j  3.   +0.j]\n",
      "Since there are 3 zero integers are found, there are 3 clusters\n"
     ]
    }
   ],
   "source": [
    "#get adjacency matrix\n",
    "adjacencyMatrixD = np.matrix(adjacencyArrayD)\n",
    "\n",
    "#degree matrix\n",
    "degree = np.zeros(len(adjacencyMatrixD))\n",
    "rowsum = adjacencyMatrixD.sum(axis=1)\n",
    "\n",
    "# loop through matrix and add up all degree connections\n",
    "for j in range(0, len(adjacencyMatrixC)):\n",
    "    degree[j] = rowsum[j,0]\n",
    "#print(degree)\n",
    "# get the diagonal entries to correct the for loop oversumming\n",
    "A = adjacencyMatrixD.diagonal()\n",
    "d = A.flat\n",
    "diagMat = list(d)\n",
    "\n",
    "#get degree matrix\n",
    "degreeMatrixD = np.diag(degree - diagMat)\n",
    "\n",
    "#getting laplacian matrix\n",
    "laplacianMatrixD = degreeMatrixD - adjacencyMatrixD\n",
    "#geting eigenvalues\n",
    "eigenvaluesD = np.round(np.linalg.eig(laplacianMatrixD)[0], decimals = 3)\n",
    "print(eigenvaluesD)\n",
    "\n",
    "clustersD = 0\n",
    "for i in range(len(eigenvaluesD)):\n",
    "    if eigenvaluesD[i] == 0:\n",
    "        clustersD += 1\n",
    "print(\"Since there are {} zero integers are found, there are {} clusters\".format(clustersD,clustersD))"
   ],
   "metadata": {
    "collapsed": false,
    "pycharm": {
     "name": "#%%\n"
    }
   }
  },
  {
   "cell_type": "markdown",
   "source": [],
   "metadata": {
    "collapsed": false
   }
  }
 ],
 "metadata": {
  "kernelspec": {
   "display_name": "Python 3",
   "language": "python",
   "name": "python3"
  },
  "language_info": {
   "codemirror_mode": {
    "name": "ipython",
    "version": 2
   },
   "file_extension": ".py",
   "mimetype": "text/x-python",
   "name": "python",
   "nbconvert_exporter": "python",
   "pygments_lexer": "ipython2",
   "version": "2.7.6"
  }
 },
 "nbformat": 4,
 "nbformat_minor": 0
}